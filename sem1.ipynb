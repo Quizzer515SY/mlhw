{
  "nbformat": 4,
  "nbformat_minor": 0,
  "metadata": {
    "colab": {
      "provenance": [],
      "authorship_tag": "ABX9TyNCk89U1cEcWUCPdyqrmuZz",
      "include_colab_link": true
    },
    "kernelspec": {
      "name": "python3",
      "display_name": "Python 3"
    },
    "language_info": {
      "name": "python"
    }
  },
  "cells": [
    {
      "cell_type": "markdown",
      "metadata": {
        "id": "view-in-github",
        "colab_type": "text"
      },
      "source": [
        "<a href=\"https://colab.research.google.com/github/Quizzer515SY/mlhw/blob/main/sem1.ipynb\" target=\"_parent\"><img src=\"https://colab.research.google.com/assets/colab-badge.svg\" alt=\"Open In Colab\"/></a>"
      ]
    },
    {
      "cell_type": "code",
      "source": [
        "import numpy as np"
      ],
      "metadata": {
        "id": "czKhbHgn2iUh"
      },
      "execution_count": null,
      "outputs": []
    },
    {
      "cell_type": "markdown",
      "source": [
        "Задания для самостоятельного решения"
      ],
      "metadata": {
        "id": "98h1IuOfv0pU"
      }
    },
    {
      "cell_type": "markdown",
      "source": [
        "1. Развернуть одномерный массив (сделать так, чтобы его элементы шли в обратном порядке)."
      ],
      "metadata": {
        "id": "msjlGnZe2ecx"
      }
    },
    {
      "cell_type": "code",
      "source": [
        "a = np.array([1, 2, 3, 4, 5, 6])\n",
        "a[::-1] #reversed array"
      ],
      "metadata": {
        "colab": {
          "base_uri": "https://localhost:8080/"
        },
        "id": "F0Og5E0P2f7H",
        "outputId": "494288c0-b7a5-4074-9b7b-6fb0de896c67"
      },
      "execution_count": null,
      "outputs": [
        {
          "output_type": "execute_result",
          "data": {
            "text/plain": [
              "array([6, 5, 4, 3, 2, 1])"
            ]
          },
          "metadata": {},
          "execution_count": 64
        }
      ]
    },
    {
      "cell_type": "markdown",
      "source": [
        "2. Найти максимальный нечетный элемент в массиве."
      ],
      "metadata": {
        "id": "h0YaOewf2r8A"
      }
    },
    {
      "cell_type": "code",
      "source": [
        "max(a[a % 2 == 1])"
      ],
      "metadata": {
        "colab": {
          "base_uri": "https://localhost:8080/"
        },
        "id": "PUHxMgQU2sce",
        "outputId": "f239e5d6-d220-470d-98c4-c244ca400980"
      },
      "execution_count": null,
      "outputs": [
        {
          "output_type": "execute_result",
          "data": {
            "text/plain": [
              "5"
            ]
          },
          "metadata": {},
          "execution_count": 65
        }
      ]
    },
    {
      "cell_type": "markdown",
      "source": [
        "3. Замените все нечетные элементы массива на ваше любимое число."
      ],
      "metadata": {
        "id": "D1pDPoHi3gfZ"
      }
    },
    {
      "cell_type": "code",
      "source": [
        "favnum = 17\n",
        "b = np.copy(a)\n",
        "b[b % 2 == 1] = favnum\n",
        "b"
      ],
      "metadata": {
        "colab": {
          "base_uri": "https://localhost:8080/"
        },
        "id": "PddSHczL3fwN",
        "outputId": "77da4860-bf43-439e-d9ea-e8219648c304"
      },
      "execution_count": null,
      "outputs": [
        {
          "output_type": "execute_result",
          "data": {
            "text/plain": [
              "array([17,  2, 17,  4, 17,  6])"
            ]
          },
          "metadata": {},
          "execution_count": 66
        }
      ]
    },
    {
      "cell_type": "markdown",
      "source": [
        "4. Создайте массив первых n нечетных чисел, записанных в порядке убывания. Например, если n=5, то ответом будет `array([9, 7, 5, 3, 1])`. Функции, которые могут пригодиться при решении: `.arange()`"
      ],
      "metadata": {
        "id": "Bat0JcHg4CyF"
      }
    },
    {
      "cell_type": "code",
      "source": [
        "n = 7\n",
        "c = np.arange(n*2-1, 0, -2)\n",
        "c"
      ],
      "metadata": {
        "colab": {
          "base_uri": "https://localhost:8080/"
        },
        "id": "X5qAWPHQ4Drj",
        "outputId": "5c70bde3-70c5-4f7a-e404-fff639f4e216"
      },
      "execution_count": null,
      "outputs": [
        {
          "output_type": "execute_result",
          "data": {
            "text/plain": [
              "array([13, 11,  9,  7,  5,  3,  1])"
            ]
          },
          "metadata": {},
          "execution_count": 74
        }
      ]
    },
    {
      "cell_type": "markdown",
      "source": [
        "5. Вычислите самое близкое и самое дальнее числа к данному в рассматриваемом массиве чисел. Например, если на вход поступают массив `array([0, 1, 2, 3, 4])` и число 1.33, то ответом будет `(1, 4)`. Функции, которые могут пригодиться при решении: `.abs()`, `.argmax()`, `.argmin()`"
      ],
      "metadata": {
        "id": "i14KCzSL4nhR"
      }
    },
    {
      "cell_type": "code",
      "source": [
        "n = 1.5\n",
        "d = np.array([1, 2, 3, 4])\n",
        "e = np.abs(d-n)\n",
        "(d[np.argmin(e)], d[np.argmax(e)])"
      ],
      "metadata": {
        "colab": {
          "base_uri": "https://localhost:8080/"
        },
        "id": "Lp7-iPd64oNr",
        "outputId": "95cdd8cc-b8e7-4044-9dca-8ecb2b18cb9c"
      },
      "execution_count": null,
      "outputs": [
        {
          "output_type": "execute_result",
          "data": {
            "text/plain": [
              "(1, 4)"
            ]
          },
          "metadata": {},
          "execution_count": 82
        }
      ]
    },
    {
      "cell_type": "markdown",
      "source": [
        "6. Вычисляющую первообразную заданного полинома (в качестве константы возьмите ваше любимое число). Например, если на вход поступает массив коэффициентов `array([4, 6, 0, 1])`, что соответствует полиному 4x^3 + 6x^2 + 1, на выходе получается массив коэффициентов `array([1, 2, 0, 1, -2])`, соответствующий полиному x^4 + 2x^3 + x - 2. Функции, которые могут пригодиться при решении: `.append()`"
      ],
      "metadata": {
        "id": "APMPmZBt6Lzw"
      }
    },
    {
      "cell_type": "code",
      "source": [
        "n = 3\n",
        "polynomial = np.array([4, 6, 0, 1])\n",
        "indices = np.arange(p.size - 1, -1, -1) + 1\n",
        "integrated = np.append(np.divide(p, indices), n)\n",
        "integrated"
      ],
      "metadata": {
        "colab": {
          "base_uri": "https://localhost:8080/"
        },
        "id": "ubpw4ZN26MU-",
        "outputId": "beff2433-cb83-46b7-fa8b-3573f1491dcf"
      },
      "execution_count": null,
      "outputs": [
        {
          "output_type": "execute_result",
          "data": {
            "text/plain": [
              "array([1., 2., 0., 1., 3.])"
            ]
          },
          "metadata": {},
          "execution_count": 97
        }
      ]
    },
    {
      "cell_type": "markdown",
      "source": [
        "7. Пользуясь пунктом 6, посчитайте первую производную для заданного полинома в заданной точке."
      ],
      "metadata": {
        "id": "H0uf80MF-hZJ"
      }
    },
    {
      "cell_type": "code",
      "source": [
        "xval = 1\n",
        "polynomial = np.array([1, 2, 0, 1, 3])\n",
        "indices = np.arange(p.size - 1, -1, -1)\n",
        "derivative = np.multiply(p, indices)[:-1]\n",
        "instantslope = np.sum(derivative * xval)\n",
        "instantslope"
      ],
      "metadata": {
        "colab": {
          "base_uri": "https://localhost:8080/"
        },
        "id": "b1BH_654-h2D",
        "outputId": "c94eb1b1-0375-40ec-bd25-4b5a1817008f"
      },
      "execution_count": null,
      "outputs": [
        {
          "output_type": "execute_result",
          "data": {
            "text/plain": [
              "11"
            ]
          },
          "metadata": {},
          "execution_count": 104
        }
      ]
    }
  ]
}